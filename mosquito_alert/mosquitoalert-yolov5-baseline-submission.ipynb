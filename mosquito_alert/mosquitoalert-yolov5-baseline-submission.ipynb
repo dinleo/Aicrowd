{
 "cells": [
  {
   "cell_type": "markdown",
   "source": [
    "# MosquitoAlert - YoloV5 Baseline Submission\n",
    "\n",
    "![](https://images.aicrowd.com/raw_images/challenges/social_media_image_file/1124/1c83e8678106d51ab51f.png)\n",
    "\n",
    "This notebook will contains instructions and example submission with yolov5 trained on the dataset."
   ],
   "metadata": {
    "id": "T06H-pmdza-c"
   }
  },
  {
   "cell_type": "markdown",
   "source": [
    "## Installations 🤖\n",
    "\n",
    "1. `aicrowd-cli` for downloading challenge data and making submissions\n",
    "2. `pyarrow` for saving to parquet for submissions"
   ],
   "metadata": {
    "id": "rKklqOLV0Bjd"
   }
  },
  {
   "cell_type": "code",
   "execution_count": 2,
   "metadata": {
    "colab": {
     "base_uri": "https://localhost:8080/"
    },
    "id": "CPt88vs3y_vc",
    "executionInfo": {
     "status": "ok",
     "timestamp": 1687954007974,
     "user_tz": -330,
     "elapsed": 6095,
     "user": {
      "displayName": "Dipam Chakraborty",
      "userId": "04496869744334527762"
     }
    },
    "outputId": "86d8555d-a957-4fcf-8dd7-5baa23ec410b",
    "ExecuteTime": {
     "end_time": "2023-10-08T11:09:24.978302500Z",
     "start_time": "2023-10-08T11:07:23.978391700Z"
    }
   },
   "outputs": [
    {
     "name": "stdout",
     "output_type": "stream",
     "text": [
      "^C\n"
     ]
    }
   ],
   "source": [
    "!pip install -U --user ultralytics tqdm opencv-python torchvision pandas Pillow gdown aicrowd-cli"
   ]
  },
  {
   "cell_type": "code",
   "execution_count": 4,
   "outputs": [
    {
     "name": "stdout",
     "output_type": "stream",
     "text": [
      "Requirement already satisfied: aicrowd-cli in c:\\users\\dinle\\appdata\\roaming\\python\\python39\\site-packages (0.1.15)\n",
      "Requirement already satisfied: click<8,>=7.1.2 in c:\\users\\dinle\\appdata\\roaming\\python\\python39\\site-packages (from aicrowd-cli) (7.1.2)\n",
      "Requirement already satisfied: toml<1,>=0.10.2 in c:\\users\\dinle\\appdata\\local\\programs\\python\\python39\\lib\\site-packages (from aicrowd-cli) (0.10.2)\n",
      "Requirement already satisfied: rich<11,>=10.0.0 in c:\\users\\dinle\\appdata\\local\\programs\\python\\python39\\lib\\site-packages (from aicrowd-cli) (10.16.2)\n",
      "Requirement already satisfied: pyzmq==22.1.0 in c:\\users\\dinle\\appdata\\local\\programs\\python\\python39\\lib\\site-packages (from aicrowd-cli) (22.1.0)\n",
      "Requirement already satisfied: tqdm<5,>=4.56.0 in c:\\users\\dinle\\appdata\\local\\programs\\python\\python39\\lib\\site-packages (from aicrowd-cli) (4.66.1)\n",
      "Requirement already satisfied: requests<3,>=2.25.1 in c:\\users\\dinle\\appdata\\local\\programs\\python\\python39\\lib\\site-packages (from aicrowd-cli) (2.31.0)\n",
      "Requirement already satisfied: requests-toolbelt<1,>=0.9.1 in c:\\users\\dinle\\appdata\\roaming\\python\\python39\\site-packages (from aicrowd-cli) (0.10.1)\n",
      "Requirement already satisfied: python-slugify<6,>=5.0.0 in c:\\users\\dinle\\appdata\\roaming\\python\\python39\\site-packages (from aicrowd-cli) (5.0.2)\n",
      "Requirement already satisfied: GitPython==3.1.18 in c:\\users\\dinle\\appdata\\roaming\\python\\python39\\site-packages (from aicrowd-cli) (3.1.18)\n",
      "Requirement already satisfied: semver<3,>=2.13.0 in c:\\users\\dinle\\appdata\\local\\programs\\python\\python39\\lib\\site-packages (from aicrowd-cli) (2.13.0)\n",
      "Requirement already satisfied: gitdb<5,>=4.0.1 in c:\\users\\dinle\\appdata\\roaming\\python\\python39\\site-packages (from GitPython==3.1.18->aicrowd-cli) (4.0.10)\n",
      "Requirement already satisfied: text-unidecode>=1.3 in c:\\users\\dinle\\appdata\\local\\programs\\python\\python39\\lib\\site-packages (from python-slugify<6,>=5.0.0->aicrowd-cli) (1.3)\n",
      "Requirement already satisfied: charset-normalizer<4,>=2 in c:\\users\\dinle\\appdata\\local\\programs\\python\\python39\\lib\\site-packages (from requests<3,>=2.25.1->aicrowd-cli) (3.3.0)\n",
      "Requirement already satisfied: certifi>=2017.4.17 in c:\\users\\dinle\\appdata\\local\\programs\\python\\python39\\lib\\site-packages (from requests<3,>=2.25.1->aicrowd-cli) (2023.7.22)\n",
      "Requirement already satisfied: urllib3<3,>=1.21.1 in c:\\users\\dinle\\appdata\\local\\programs\\python\\python39\\lib\\site-packages (from requests<3,>=2.25.1->aicrowd-cli) (2.0.6)\n",
      "Requirement already satisfied: idna<4,>=2.5 in c:\\users\\dinle\\appdata\\local\\programs\\python\\python39\\lib\\site-packages (from requests<3,>=2.25.1->aicrowd-cli) (3.4)\n",
      "Requirement already satisfied: commonmark<0.10.0,>=0.9.0 in c:\\users\\dinle\\appdata\\local\\programs\\python\\python39\\lib\\site-packages (from rich<11,>=10.0.0->aicrowd-cli) (0.9.1)\n",
      "Requirement already satisfied: pygments<3.0.0,>=2.6.0 in c:\\users\\dinle\\appdata\\local\\programs\\python\\python39\\lib\\site-packages (from rich<11,>=10.0.0->aicrowd-cli) (2.16.1)\n",
      "Requirement already satisfied: colorama<0.5.0,>=0.4.0 in c:\\users\\dinle\\appdata\\local\\programs\\python\\python39\\lib\\site-packages (from rich<11,>=10.0.0->aicrowd-cli) (0.4.6)\n",
      "Requirement already satisfied: smmap<6,>=3.0.1 in c:\\users\\dinle\\appdata\\local\\programs\\python\\python39\\lib\\site-packages (from gitdb<5,>=4.0.1->GitPython==3.1.18->aicrowd-cli) (5.0.1)\n"
     ]
    },
    {
     "name": "stderr",
     "output_type": "stream",
     "text": [
      "WARNING: You are using pip version 22.0.4; however, version 23.2.1 is available.\n",
      "You should consider upgrading via the 'C:\\Users\\dinle\\AppData\\Local\\Programs\\Python\\Python39\\python.exe -m pip install --upgrade pip' command.\n"
     ]
    }
   ],
   "source": [
    "!pip install aicrowd-cli"
   ],
   "metadata": {
    "collapsed": false,
    "ExecuteTime": {
     "end_time": "2023-10-08T11:14:20.072657600Z",
     "start_time": "2023-10-08T11:14:17.695458400Z"
    }
   }
  },
  {
   "cell_type": "code",
   "execution_count": 7,
   "metadata": {
    "id": "6W3jHgFVy_ve",
    "executionInfo": {
     "status": "ok",
     "timestamp": 1687954031341,
     "user_tz": -330,
     "elapsed": 1500,
     "user": {
      "displayName": "Dipam Chakraborty",
      "userId": "04496869744334527762"
     }
    },
    "ExecuteTime": {
     "end_time": "2023-10-08T11:17:23.618907800Z",
     "start_time": "2023-10-08T11:17:23.608912800Z"
    }
   },
   "outputs": [],
   "source": [
    "import torch\n",
    "import os\n",
    "from pathlib import Path\n",
    "import cv2\n",
    "from timeit import default_timer as timer\n",
    "import pandas as pd\n",
    "from tqdm.auto import tqdm\n",
    "from PIL import Image"
   ]
  },
  {
   "cell_type": "markdown",
   "source": [
    "# Download Dataset and Models"
   ],
   "metadata": {
    "id": "hoDiyrxG0XrW"
   }
  },
  {
   "cell_type": "code",
   "execution_count": 6,
   "metadata": {
    "colab": {
     "base_uri": "https://localhost:8080/"
    },
    "id": "uT5pqGXcy_ve",
    "executionInfo": {
     "status": "ok",
     "timestamp": 1687952753151,
     "user_tz": -330,
     "elapsed": 13720,
     "user": {
      "displayName": "Dipam Chakraborty",
      "userId": "04496869744334527762"
     }
    },
    "outputId": "b8fe35a1-045a-4b0f-c927-7b2c6bbb8d50",
    "ExecuteTime": {
     "end_time": "2023-10-08T11:14:33.729157100Z",
     "start_time": "2023-10-08T11:14:33.675379800Z"
    }
   },
   "outputs": [
    {
     "name": "stderr",
     "output_type": "stream",
     "text": [
      "'aicrowd'은(는) 내부 또는 외부 명령, 실행할 수 있는 프로그램, 또는\n",
      "배치 파일이 아닙니다.\n"
     ]
    }
   ],
   "source": [
    "!aicrowd login"
   ]
  },
  {
   "cell_type": "code",
   "source": [
    "!aicrowd dataset download --challenge mosquitoalert-challenge-2023"
   ],
   "metadata": {
    "colab": {
     "base_uri": "https://localhost:8080/"
    },
    "id": "GOKyjNqb0ziI",
    "executionInfo": {
     "status": "ok",
     "timestamp": 1687953923179,
     "user_tz": -330,
     "elapsed": 897384,
     "user": {
      "displayName": "Dipam Chakraborty",
      "userId": "04496869744334527762"
     }
    },
    "outputId": "ca9248eb-5769-4dc7-f4c6-57384ced910b"
   },
   "execution_count": null,
   "outputs": []
  },
  {
   "cell_type": "code",
   "source": [
    "!unzip -qq phase2_train_v0.zip -d phase2_train_v0/"
   ],
   "metadata": {
    "id": "iJlxG6lD4uuk",
    "executionInfo": {
     "status": "ok",
     "timestamp": 1687953951232,
     "user_tz": -330,
     "elapsed": 25785,
     "user": {
      "displayName": "Dipam Chakraborty",
      "userId": "04496869744334527762"
     }
    }
   },
   "execution_count": null,
   "outputs": []
  },
  {
   "cell_type": "code",
   "execution_count": null,
   "metadata": {
    "colab": {
     "base_uri": "https://localhost:8080/"
    },
    "id": "NqkqXQrXy_vf",
    "executionInfo": {
     "status": "ok",
     "timestamp": 1687953957245,
     "user_tz": -330,
     "elapsed": 3283,
     "user": {
      "displayName": "Dipam Chakraborty",
      "userId": "04496869744334527762"
     }
    },
    "outputId": "1cc34747-479c-4a9f-d7e2-71eeae305c9b"
   },
   "outputs": [],
   "source": [
    "# Downloading the weight file at https://drive.google.com/file/d/1s7EoK3V9YTwQOxhuO1ERABRZ95atz8PS/view\n",
    "!gdown \"1s7EoK3V9YTwQOxhuO1ERABRZ95atz8PS\""
   ]
  },
  {
   "cell_type": "code",
   "source": [
    "TEST_DATA_DIR = 'phase2_train_v0/'"
   ],
   "metadata": {
    "id": "h8oLLQC70EC1",
    "executionInfo": {
     "status": "ok",
     "timestamp": 1687954046463,
     "user_tz": -330,
     "elapsed": 3,
     "user": {
      "displayName": "Dipam Chakraborty",
      "userId": "04496869744334527762"
     }
    }
   },
   "execution_count": null,
   "outputs": []
  },
  {
   "cell_type": "code",
   "source": [
    "def classify_image(image):\n",
    "    image_information = {}\n",
    "    result = yolov5_model(image)\n",
    "    result_df = result.pandas().xyxy[0]\n",
    "    if result_df.empty:\n",
    "        print('No results from yolov5 model!')\n",
    "    else:\n",
    "        image_information = result_df.to_dict()\n",
    "    return image_information\n",
    "\n",
    "# getting mosquito_class name from predicted result\n",
    "def extract_predicted_mosquito_class_name(extractedInformation):\n",
    "    mosquito_class = \"\"\n",
    "    if extractedInformation is not None:\n",
    "        mosquito_class = str(extractedInformation.get(\"name\").get(0))\n",
    "    return mosquito_class\n",
    "\n",
    "# getting mosquito_class number from predicted result\n",
    "def extract_predicted_mosquito_class_number(extractedInformation):\n",
    "    mosquito_class = \"\"\n",
    "    if extractedInformation is not None:\n",
    "        mosquito_class = str(extractedInformation.get(\"class\").get(0))\n",
    "    return mosquito_class\n",
    "\n",
    "# getting mosquito_class confidence score from predicted result\n",
    "def extract_predicted_mosquito_class_confidence(extractedInformation):\n",
    "    mosquito_class = \"\"\n",
    "    if extractedInformation is not None:\n",
    "        mosquito_class = str(extractedInformation.get(\"confidence\").get(0))\n",
    "    return mosquito_class\n",
    "\n",
    "# getting mosquito bounding box from predicted result\n",
    "# it looks like the results are in different notation\n",
    "# than the uoutput file\n",
    "# Pascal VOC? (top, left, bottom, right)?\n",
    "def extract_predicted_mosquito_bbox(extractedInformation):\n",
    "    bbox = []\n",
    "    if extractedInformation is not None:\n",
    "        xmin = str(extractedInformation.get(\"xmin\").get(0))\n",
    "        ymin = str(extractedInformation.get(\"ymin\").get(0))\n",
    "        xmax = str(extractedInformation.get(\"xmax\").get(0))\n",
    "        ymax = str(extractedInformation.get(\"ymax\").get(0))\n",
    "        bbox = [xmin, ymin, xmax, ymax]\n",
    "    return bbox\n",
    "\n",
    "# find image id\n",
    "def find_image_id(original_image):\n",
    "    image_name = os.path.splitext(original_image)[0]\n",
    "    return image_name"
   ],
   "metadata": {
    "id": "ml9P_k9lzH_m",
    "executionInfo": {
     "status": "ok",
     "timestamp": 1687954046463,
     "user_tz": -330,
     "elapsed": 2,
     "user": {
      "displayName": "Dipam Chakraborty",
      "userId": "04496869744334527762"
     }
    }
   },
   "execution_count": null,
   "outputs": []
  },
  {
   "cell_type": "code",
   "execution_count": null,
   "metadata": {
    "colab": {
     "base_uri": "https://localhost:8080/",
     "height": 865,
     "referenced_widgets": [
      "7504884b1f324df8b8759ea22c16d7f6",
      "01fb0c2c0190473e9d3ff6aa685ec6da",
      "446bacc8236a4a879d262f578b514165",
      "0e17c84731e14aee9738a2ede3f6f388",
      "26193cb605e34cb0b08da64ab30e99db",
      "aa40974915a547aaad97da75116eeb76",
      "d0b4fa7496ac4e71abfd958ba0357a3a",
      "4c12973efdba4dabbdae8f94e4795ce4",
      "5924b4c947aa45c59d43836b79b6724e",
      "41891e0b09824e2d899c6fd69291f56b",
      "12067b7c776e436087e5b190c76b96a9"
     ]
    },
    "id": "hAJ93y7My_vg",
    "executionInfo": {
     "status": "ok",
     "timestamp": 1687954715844,
     "user_tz": -330,
     "elapsed": 668773,
     "user": {
      "displayName": "Dipam Chakraborty",
      "userId": "04496869744334527762"
     }
    },
    "outputId": "8e0f0dac-9a5a-44fb-f028-dee5cb469850"
   },
   "outputs": [],
   "source": [
    "# path to dataset\n",
    "root_images = os.path.join(TEST_DATA_DIR)\n",
    "\n",
    "all_images = os.listdir(root_images)\n",
    "print(f\"Total images: {len(all_images)}\")\n",
    "\n",
    "class_labels = {\n",
    "    \"aegypti\":      0,\n",
    "    \"albopictus\":   1,\n",
    "    \"anopheles\":    2,\n",
    "    \"culex\":        3,\n",
    "    \"culiseta\":     4,\n",
    "    \"japonicus/koreicus\": 5\n",
    "}\n",
    "\n",
    "# counter for correctly recognized mosquito classes\n",
    "counter = 0\n",
    "labels_counter = 0\n",
    "no_mosquito_detected = 0\n",
    "rows = []\n",
    "\n",
    "# yolov5 challenge trained baseline\n",
    "trained_model_pretrained = \"mosquitoalert-yolov5-baseline.pt\"\n",
    "\n",
    "# yolov5_model\n",
    "# Colab gets an error on this -> Use Runtime -> Restart Session (The data will not be deleted)\n",
    "yolov5_model = torch.hub.load('ultralytics/yolov5', 'custom', path = trained_model_pretrained, force_reload = True)\n",
    "\n",
    "for original_image in tqdm(all_images):\n",
    "    try:\n",
    "        original_image_file = os.path.join(root_images, original_image)\n",
    "        # checking if it is a file\n",
    "        if os.path.isfile(original_image_file):\n",
    "            # opening testing image\n",
    "            # print(f'You are watching: {original_image}')\n",
    "            # classifying image by yolov5 model\n",
    "            predictedInformation = classify_image(original_image_file)\n",
    "            mosquito_class_name_predicted = \"\"\n",
    "            mosquito_class_number_predicted = \"\"\n",
    "            mosquito_class_confidence = 0\n",
    "            mosquito_class_bbox = [0, 0, 0, 0]\n",
    "\n",
    "            if predictedInformation:\n",
    "                mosquito_class_name_predicted = extract_predicted_mosquito_class_name(predictedInformation)\n",
    "                mosquito_class_number_predicted = extract_predicted_mosquito_class_number(predictedInformation)\n",
    "                mosquito_class_confidence = extract_predicted_mosquito_class_confidence(predictedInformation)\n",
    "                mosquito_class_bbox = extract_predicted_mosquito_bbox(predictedInformation)\n",
    "                counter += 1\n",
    "            else:\n",
    "                no_mosquito_detected += 1\n",
    "            # print(f\"Predicted mosquito class: {mosquito_class_name_predicted} with {float(mosquito_class_confidence):.2f} confidence score.\")\n",
    "            #  bbox = [xmin, ymin, xmax, ymax]\n",
    "            # create row for csv file\n",
    "            row = [original_image, mosquito_class_name_predicted, mosquito_class_number_predicted, mosquito_class_confidence,\n",
    "                   mosquito_class_bbox[0], mosquito_class_bbox[1], mosquito_class_bbox[2], mosquito_class_bbox[3]]\n",
    "            rows.append(row)\n",
    "            labels_counter += 1\n",
    "            # print(f\"Finished file reading, file {original_image} read correctly!\")\n",
    "    except Exception as e:\n",
    "        print(f'Unable to process file: {original_image}!')\n",
    "        print(f'Exception: {e}!')"
   ]
  },
  {
   "cell_type": "code",
   "execution_count": null,
   "metadata": {
    "colab": {
     "base_uri": "https://localhost:8080/",
     "height": 206
    },
    "id": "42TXR0FTy_vh",
    "executionInfo": {
     "status": "ok",
     "timestamp": 1687954717501,
     "user_tz": -330,
     "elapsed": 414,
     "user": {
      "displayName": "Dipam Chakraborty",
      "userId": "04496869744334527762"
     }
    },
    "outputId": "d0f96d2c-5009-4c72-9bfd-d6c0fa159df7"
   },
   "outputs": [],
   "source": [
    "df = pd.DataFrame(rows, columns=[\"img_fName\", \"class_label\", \"predicted_class_number\", \"confidence_score\", \"bbx_xtl\", \"bbx_ytl\", \"bbx_xbr\", \"bbx_ybr\"])\n",
    "sub_df = df.drop(['predicted_class_number', 'confidence_score'], axis=1, inplace=False)\n",
    "sub_df.head()"
   ]
  },
  {
   "cell_type": "code",
   "execution_count": null,
   "metadata": {
    "id": "z5ybLd4Ay_vh",
    "executionInfo": {
     "status": "ok",
     "timestamp": 1687954717502,
     "user_tz": -330,
     "elapsed": 6,
     "user": {
      "displayName": "Dipam Chakraborty",
      "userId": "04496869744334527762"
     }
    }
   },
   "outputs": [],
   "source": [
    "sub_df.to_csv('phase2_sub.csv', index=False)"
   ]
  },
  {
   "cell_type": "code",
   "source": [
    "!aicrowd submission create -c mosquitoalert-challenge-2023 -f \"phase2_sub.csv\""
   ],
   "metadata": {
    "colab": {
     "base_uri": "https://localhost:8080/"
    },
    "id": "2H9c5w-d160M",
    "executionInfo": {
     "status": "ok",
     "timestamp": 1687954723876,
     "user_tz": -330,
     "elapsed": 6380,
     "user": {
      "displayName": "Dipam Chakraborty",
      "userId": "04496869744334527762"
     }
    },
    "outputId": "d9b7c63c-fbad-441c-e1bb-3516df4f8e55"
   },
   "execution_count": null,
   "outputs": []
  }
 ],
 "metadata": {
  "kernelspec": {
   "display_name": "iglu",
   "language": "python",
   "name": "python3"
  },
  "language_info": {
   "codemirror_mode": {
    "name": "ipython",
    "version": 3
   },
   "file_extension": ".py",
   "mimetype": "text/x-python",
   "name": "python",
   "nbconvert_exporter": "python",
   "pygments_lexer": "ipython3",
   "version": "3.8.13"
  },
  "orig_nbformat": 4,
  "colab": {
   "provenance": []
  },
  "widgets": {
   "application/vnd.jupyter.widget-state+json": {
    "7504884b1f324df8b8759ea22c16d7f6": {
     "model_module": "@jupyter-widgets/controls",
     "model_name": "HBoxModel",
     "model_module_version": "1.5.0",
     "state": {
      "_dom_classes": [],
      "_model_module": "@jupyter-widgets/controls",
      "_model_module_version": "1.5.0",
      "_model_name": "HBoxModel",
      "_view_count": null,
      "_view_module": "@jupyter-widgets/controls",
      "_view_module_version": "1.5.0",
      "_view_name": "HBoxView",
      "box_style": "",
      "children": [
       "IPY_MODEL_01fb0c2c0190473e9d3ff6aa685ec6da",
       "IPY_MODEL_446bacc8236a4a879d262f578b514165",
       "IPY_MODEL_0e17c84731e14aee9738a2ede3f6f388"
      ],
      "layout": "IPY_MODEL_26193cb605e34cb0b08da64ab30e99db"
     }
    },
    "01fb0c2c0190473e9d3ff6aa685ec6da": {
     "model_module": "@jupyter-widgets/controls",
     "model_name": "HTMLModel",
     "model_module_version": "1.5.0",
     "state": {
      "_dom_classes": [],
      "_model_module": "@jupyter-widgets/controls",
      "_model_module_version": "1.5.0",
      "_model_name": "HTMLModel",
      "_view_count": null,
      "_view_module": "@jupyter-widgets/controls",
      "_view_module_version": "1.5.0",
      "_view_name": "HTMLView",
      "description": "",
      "description_tooltip": null,
      "layout": "IPY_MODEL_aa40974915a547aaad97da75116eeb76",
      "placeholder": "​",
      "style": "IPY_MODEL_d0b4fa7496ac4e71abfd958ba0357a3a",
      "value": "100%"
     }
    },
    "446bacc8236a4a879d262f578b514165": {
     "model_module": "@jupyter-widgets/controls",
     "model_name": "FloatProgressModel",
     "model_module_version": "1.5.0",
     "state": {
      "_dom_classes": [],
      "_model_module": "@jupyter-widgets/controls",
      "_model_module_version": "1.5.0",
      "_model_name": "FloatProgressModel",
      "_view_count": null,
      "_view_module": "@jupyter-widgets/controls",
      "_view_module_version": "1.5.0",
      "_view_name": "ProgressView",
      "bar_style": "success",
      "description": "",
      "description_tooltip": null,
      "layout": "IPY_MODEL_4c12973efdba4dabbdae8f94e4795ce4",
      "max": 2676,
      "min": 0,
      "orientation": "horizontal",
      "style": "IPY_MODEL_5924b4c947aa45c59d43836b79b6724e",
      "value": 2676
     }
    },
    "0e17c84731e14aee9738a2ede3f6f388": {
     "model_module": "@jupyter-widgets/controls",
     "model_name": "HTMLModel",
     "model_module_version": "1.5.0",
     "state": {
      "_dom_classes": [],
      "_model_module": "@jupyter-widgets/controls",
      "_model_module_version": "1.5.0",
      "_model_name": "HTMLModel",
      "_view_count": null,
      "_view_module": "@jupyter-widgets/controls",
      "_view_module_version": "1.5.0",
      "_view_name": "HTMLView",
      "description": "",
      "description_tooltip": null,
      "layout": "IPY_MODEL_41891e0b09824e2d899c6fd69291f56b",
      "placeholder": "​",
      "style": "IPY_MODEL_12067b7c776e436087e5b190c76b96a9",
      "value": " 2676/2676 [11:00&lt;00:00,  4.01it/s]"
     }
    },
    "26193cb605e34cb0b08da64ab30e99db": {
     "model_module": "@jupyter-widgets/base",
     "model_name": "LayoutModel",
     "model_module_version": "1.2.0",
     "state": {
      "_model_module": "@jupyter-widgets/base",
      "_model_module_version": "1.2.0",
      "_model_name": "LayoutModel",
      "_view_count": null,
      "_view_module": "@jupyter-widgets/base",
      "_view_module_version": "1.2.0",
      "_view_name": "LayoutView",
      "align_content": null,
      "align_items": null,
      "align_self": null,
      "border": null,
      "bottom": null,
      "display": null,
      "flex": null,
      "flex_flow": null,
      "grid_area": null,
      "grid_auto_columns": null,
      "grid_auto_flow": null,
      "grid_auto_rows": null,
      "grid_column": null,
      "grid_gap": null,
      "grid_row": null,
      "grid_template_areas": null,
      "grid_template_columns": null,
      "grid_template_rows": null,
      "height": null,
      "justify_content": null,
      "justify_items": null,
      "left": null,
      "margin": null,
      "max_height": null,
      "max_width": null,
      "min_height": null,
      "min_width": null,
      "object_fit": null,
      "object_position": null,
      "order": null,
      "overflow": null,
      "overflow_x": null,
      "overflow_y": null,
      "padding": null,
      "right": null,
      "top": null,
      "visibility": null,
      "width": null
     }
    },
    "aa40974915a547aaad97da75116eeb76": {
     "model_module": "@jupyter-widgets/base",
     "model_name": "LayoutModel",
     "model_module_version": "1.2.0",
     "state": {
      "_model_module": "@jupyter-widgets/base",
      "_model_module_version": "1.2.0",
      "_model_name": "LayoutModel",
      "_view_count": null,
      "_view_module": "@jupyter-widgets/base",
      "_view_module_version": "1.2.0",
      "_view_name": "LayoutView",
      "align_content": null,
      "align_items": null,
      "align_self": null,
      "border": null,
      "bottom": null,
      "display": null,
      "flex": null,
      "flex_flow": null,
      "grid_area": null,
      "grid_auto_columns": null,
      "grid_auto_flow": null,
      "grid_auto_rows": null,
      "grid_column": null,
      "grid_gap": null,
      "grid_row": null,
      "grid_template_areas": null,
      "grid_template_columns": null,
      "grid_template_rows": null,
      "height": null,
      "justify_content": null,
      "justify_items": null,
      "left": null,
      "margin": null,
      "max_height": null,
      "max_width": null,
      "min_height": null,
      "min_width": null,
      "object_fit": null,
      "object_position": null,
      "order": null,
      "overflow": null,
      "overflow_x": null,
      "overflow_y": null,
      "padding": null,
      "right": null,
      "top": null,
      "visibility": null,
      "width": null
     }
    },
    "d0b4fa7496ac4e71abfd958ba0357a3a": {
     "model_module": "@jupyter-widgets/controls",
     "model_name": "DescriptionStyleModel",
     "model_module_version": "1.5.0",
     "state": {
      "_model_module": "@jupyter-widgets/controls",
      "_model_module_version": "1.5.0",
      "_model_name": "DescriptionStyleModel",
      "_view_count": null,
      "_view_module": "@jupyter-widgets/base",
      "_view_module_version": "1.2.0",
      "_view_name": "StyleView",
      "description_width": ""
     }
    },
    "4c12973efdba4dabbdae8f94e4795ce4": {
     "model_module": "@jupyter-widgets/base",
     "model_name": "LayoutModel",
     "model_module_version": "1.2.0",
     "state": {
      "_model_module": "@jupyter-widgets/base",
      "_model_module_version": "1.2.0",
      "_model_name": "LayoutModel",
      "_view_count": null,
      "_view_module": "@jupyter-widgets/base",
      "_view_module_version": "1.2.0",
      "_view_name": "LayoutView",
      "align_content": null,
      "align_items": null,
      "align_self": null,
      "border": null,
      "bottom": null,
      "display": null,
      "flex": null,
      "flex_flow": null,
      "grid_area": null,
      "grid_auto_columns": null,
      "grid_auto_flow": null,
      "grid_auto_rows": null,
      "grid_column": null,
      "grid_gap": null,
      "grid_row": null,
      "grid_template_areas": null,
      "grid_template_columns": null,
      "grid_template_rows": null,
      "height": null,
      "justify_content": null,
      "justify_items": null,
      "left": null,
      "margin": null,
      "max_height": null,
      "max_width": null,
      "min_height": null,
      "min_width": null,
      "object_fit": null,
      "object_position": null,
      "order": null,
      "overflow": null,
      "overflow_x": null,
      "overflow_y": null,
      "padding": null,
      "right": null,
      "top": null,
      "visibility": null,
      "width": null
     }
    },
    "5924b4c947aa45c59d43836b79b6724e": {
     "model_module": "@jupyter-widgets/controls",
     "model_name": "ProgressStyleModel",
     "model_module_version": "1.5.0",
     "state": {
      "_model_module": "@jupyter-widgets/controls",
      "_model_module_version": "1.5.0",
      "_model_name": "ProgressStyleModel",
      "_view_count": null,
      "_view_module": "@jupyter-widgets/base",
      "_view_module_version": "1.2.0",
      "_view_name": "StyleView",
      "bar_color": null,
      "description_width": ""
     }
    },
    "41891e0b09824e2d899c6fd69291f56b": {
     "model_module": "@jupyter-widgets/base",
     "model_name": "LayoutModel",
     "model_module_version": "1.2.0",
     "state": {
      "_model_module": "@jupyter-widgets/base",
      "_model_module_version": "1.2.0",
      "_model_name": "LayoutModel",
      "_view_count": null,
      "_view_module": "@jupyter-widgets/base",
      "_view_module_version": "1.2.0",
      "_view_name": "LayoutView",
      "align_content": null,
      "align_items": null,
      "align_self": null,
      "border": null,
      "bottom": null,
      "display": null,
      "flex": null,
      "flex_flow": null,
      "grid_area": null,
      "grid_auto_columns": null,
      "grid_auto_flow": null,
      "grid_auto_rows": null,
      "grid_column": null,
      "grid_gap": null,
      "grid_row": null,
      "grid_template_areas": null,
      "grid_template_columns": null,
      "grid_template_rows": null,
      "height": null,
      "justify_content": null,
      "justify_items": null,
      "left": null,
      "margin": null,
      "max_height": null,
      "max_width": null,
      "min_height": null,
      "min_width": null,
      "object_fit": null,
      "object_position": null,
      "order": null,
      "overflow": null,
      "overflow_x": null,
      "overflow_y": null,
      "padding": null,
      "right": null,
      "top": null,
      "visibility": null,
      "width": null
     }
    },
    "12067b7c776e436087e5b190c76b96a9": {
     "model_module": "@jupyter-widgets/controls",
     "model_name": "DescriptionStyleModel",
     "model_module_version": "1.5.0",
     "state": {
      "_model_module": "@jupyter-widgets/controls",
      "_model_module_version": "1.5.0",
      "_model_name": "DescriptionStyleModel",
      "_view_count": null,
      "_view_module": "@jupyter-widgets/base",
      "_view_module_version": "1.2.0",
      "_view_name": "StyleView",
      "description_width": ""
     }
    }
   }
  }
 },
 "nbformat": 4,
 "nbformat_minor": 0
}
